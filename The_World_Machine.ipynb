{
  "nbformat": 4,
  "nbformat_minor": 0,
  "metadata": {
    "colab": {
      "name": "The World Machine.ipynb",
      "provenance": [],
      "collapsed_sections": [],
      "include_colab_link": true
    },
    "kernelspec": {
      "name": "python3",
      "display_name": "Python 3"
    },
    "language_info": {
      "name": "python"
    },
    "accelerator": "GPU"
  },
  "cells": [
    {
      "cell_type": "markdown",
      "metadata": {
        "id": "view-in-github",
        "colab_type": "text"
      },
      "source": [
        "<a href=\"https://colab.research.google.com/github/annasajkh/The-World-Machine/blob/main/The_World_Machine.ipynb\" target=\"_parent\"><img src=\"https://colab.research.google.com/assets/colab-badge.svg\" alt=\"Open In Colab\"/></a>"
      ]
    },
    {
      "cell_type": "markdown",
      "metadata": {
        "id": "ChvQ7Y5mJcIg"
      },
      "source": [
        "thanks to gwitr for helping me with the dataset "
      ]
    },
    {
      "cell_type": "code",
      "metadata": {
        "id": "YnaEOYMqIr6S",
        "colab": {
          "base_uri": "https://localhost:8080/"
        },
        "outputId": "43060a19-2844-4bab-dcb6-5299fcaa6e9b"
      },
      "source": [
        "#run this to setup everything you only have to run it once\n",
        "\n",
        "%tensorflow_version 1.x\n",
        "!pip install -q gpt-2-simple\n",
        "\n",
        "from os import path\n",
        "import gpt_2_simple as gpt2\n",
        "import tensorflow as tf\n",
        "\n",
        "if not path.exists(\"models\"):\n",
        "  gpt2.download_gpt2(model_name=\"355M\")\n",
        "\n",
        "if not path.exists(\"checkpoint\"):\n",
        "  !gdown --id 1-2RwSdhXirNTKjN0ghsKGMP3MCW_zKhr\n",
        "  !tar -xf checkpoint_run1.tar"
      ],
      "execution_count": 1,
      "outputs": [
        {
          "output_type": "stream",
          "name": "stdout",
          "text": [
            "TensorFlow 1.x selected.\n",
            "  Building wheel for gpt-2-simple (setup.py) ... \u001b[?25l\u001b[?25hdone\n",
            "WARNING:tensorflow:\n",
            "The TensorFlow contrib module will not be included in TensorFlow 2.0.\n",
            "For more information, please see:\n",
            "  * https://github.com/tensorflow/community/blob/master/rfcs/20180907-contrib-sunset.md\n",
            "  * https://github.com/tensorflow/addons\n",
            "  * https://github.com/tensorflow/io (for I/O related ops)\n",
            "If you depend on functionality not listed there, please file an issue.\n",
            "\n"
          ]
        },
        {
          "output_type": "stream",
          "name": "stderr",
          "text": [
            "Fetching checkpoint: 1.05Mit [00:00, 527Mit/s]                                                      \n",
            "Fetching encoder.json: 1.05Mit [00:00, 7.33Mit/s]\n",
            "Fetching hparams.json: 1.05Mit [00:00, 416Mit/s]                                                    \n",
            "Fetching model.ckpt.data-00000-of-00001: 1.42Git [00:38, 36.6Mit/s]                                 \n",
            "Fetching model.ckpt.index: 1.05Mit [00:00, 617Mit/s]                                                \n",
            "Fetching model.ckpt.meta: 1.05Mit [00:00, 7.23Mit/s]\n",
            "Fetching vocab.bpe: 1.05Mit [00:00, 10.6Mit/s]                                                      \n"
          ]
        },
        {
          "output_type": "stream",
          "name": "stdout",
          "text": [
            "Downloading...\n",
            "From: https://drive.google.com/uc?id=1-2RwSdhXirNTKjN0ghsKGMP3MCW_zKhr\n",
            "To: /content/checkpoint_run1.tar\n",
            "100% 1.43G/1.43G [00:09<00:00, 144MB/s]\n"
          ]
        }
      ]
    },
    {
      "cell_type": "code",
      "metadata": {
        "id": "9d18MHkCIvXE",
        "colab": {
          "base_uri": "https://localhost:8080/"
        },
        "outputId": "178d25d1-ad4a-4642-e6d5-d8be337174f6"
      },
      "source": [
        "#run to to generate text you can change the prompt or the parameters\n",
        "import re\n",
        "\n",
        "prompt = \"\"\"\n",
        "Niko wakes up in a dark room\n",
        "\"\"\".strip()\n",
        "\n",
        "tf.reset_default_graph()\n",
        "session = gpt2.start_tf_sess()\n",
        "gpt2.load_gpt2(session, run_name=\"run1\")\n",
        "\n",
        "generated = gpt2.generate(\n",
        "              session,\n",
        "              temperature=0.9,\n",
        "              top_k=40,\n",
        "              batch_size=1,\n",
        "              prefix=prompt,\n",
        "              length=1024,\n",
        "              return_as_list=True)[0]\n",
        "\n",
        "generated_arr = re.sub(\" +\", \" \", generated).replace(\"\\n \",\"\\n\").split(\" \")\n",
        "\n",
        "for i in range(1, int(len(generated_arr) / 15)):\n",
        "  print(\" \".join(generated_arr[(i-1) * 15:i * 15]))"
      ],
      "execution_count": 15,
      "outputs": [
        {
          "output_type": "stream",
          "name": "stdout",
          "text": [
            "Loading checkpoint checkpoint/run1/model-3147\n",
            "INFO:tensorflow:Restoring parameters from checkpoint/run1/model-3147\n",
            "Niko wakes up in a dark room where the World Machine is, and finds her\n",
            "friends in the World Machine's world. She wakes up alone but has a friend with\n",
            "her that wants to help her. They tell her the Sun is the Light and\n",
            "that it's the only light and she must retrieve it, so she goes with them.\n",
            "\n",
            "\n",
            "\n",
            "The\n",
            "World Machine tells her that the door is the only way to the inside of\n",
            "the World because of the strange events that took place before the world was saved.\n",
            "The only person to help her is Silver, a teleporter, but she isn't sure if\n",
            "she wants to save her friends or herself. She has to help Niko and finds\n",
            "herself in a dark room again. The World Machine says she's not alone anymore, she's\n",
            "the only one who can hear them, and she's the only one who can help\n",
            "them. She also gives Silver a piece of amber and tells her to use it\n",
            "to open the portal.\n",
            "\n",
            "\n",
            "The World Machine gives Silver a soul and tells her she has\n",
            "to find what's inside. Silver goes in the portal and opens the gate that the\n",
            "World Machine helped, only to find herself inside. She opens the Gate but finds a\n",
            "familiar outfit and starts to feel someone else's body. In her mind, the player is\n",
            "her body. She starts to remember that it was her own body, but she was\n",
            "taken instead by another person. She goes to find him but finds him inside. She\n",
            "finds them and stops him. He's unconscious and still has his eyes, which she freaks\n",
            "out over. Then he turns over and finds a box on his head. Niko and\n",
            "the player had found a way in a safe and went to help Niko, when\n",
            "suddenly the box opens. There was definitely someone inside this box. It must be someone's\n",
            "computer. The player had a lot of help getting past it, but the box wasn't\n",
            "locked. They tried and the computer could be a person's. There's a lot of questions,\n",
            "yet none of answers. And Niko doesn't want to know what the Player has for\n",
            "a password, like she really didn't want to know what they wanted. The light starts\n",
            "to shift and the box opens up and there was definitely something inside. The player\n",
            "came in, helped Niko, and they were very confused. Their world was really messed up\n",
            "and that was the only way on how they can fix it. They didn't know\n",
            "anything about the world being like this.\n",
            "\n",
            "\n",
            "The Player asked them why they made the light\n",
            "shift, they were unsure, but then the Player explained what they had to do. They\n",
            "told the Player they would find out eventually, but they wanted to help Niko and\n",
            "now they found a way. The Player helped Niko get into the safe, and then\n",
            "the Player helped them get out. Then they talked about the person that's inside, if\n",
            "they're real that's who it is. And then it was revealed. The Person is a\n",
            "spirit like what the Player and Niko used to be, so they have some memories\n",
            "of the person and his/her physical form. The Player also had some memories of the\n",
            "person, of their journey to save their world and of their journey to find them.\n",
            "The Player also had some memories of the person, of their journey to save their\n",
            "world.. but didn't tell Niko. They had to wait for the right time to tell\n",
            "them and they're the reason Niko is here now. Now they can get their memories\n",
            "back.\n",
            "\n",
            "\n",
            "The Player's old friend/partner, Calamus, who was at first confused, and then became upset and\n",
            "felt stuck, and then became very sad. He felt like there wasn't any way they\n",
            "could help Niko and the story was doomed to fail. And then he made the\n",
            "decision to help Niko. He gave them some items that had puzzle pieces but didn't\n",
            "tell Niko.\n",
            "\n",
            "\n",
            "What does this mean? For instance, if Niko, or you feel confident in helping\n",
            "the world, you can tell them the truth or the truth and you can find\n",
            "them. It's not as if you can just go back and erase their memory or\n",
            "anything, but I believe Niko remembers something.\n",
            "\n",
            "\n",
            "It's hard for me to describe what it's like\n",
            "being with Niko, it's all really, honestly like an out of body experience. But then\n",
            "again I don't know many people well it's hard to know where to put it.\n",
            "But I've been to many worlds and I've met many people and I've never met\n",
            "a person that was this sincere about wanting to see them again, I guess it's\n",
            "hard for me to believe Niko didn't want to return to this world, it's... hard\n",
            "for me to imagine Niko wanting to go home, to their world.\n",
            "\n",
            "\n",
            "It's an interesting feeling\n",
            "to have an emotion that's not hate, but just pure confusion. It's kind of like\n"
          ]
        }
      ]
    }
  ]
}