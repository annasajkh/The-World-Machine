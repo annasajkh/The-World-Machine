{
  "nbformat": 4,
  "nbformat_minor": 0,
  "metadata": {
    "colab": {
      "name": "The World Machine.ipynb",
      "provenance": [],
      "collapsed_sections": [],
      "include_colab_link": true
    },
    "kernelspec": {
      "name": "python3",
      "display_name": "Python 3"
    },
    "language_info": {
      "name": "python"
    },
    "accelerator": "GPU"
  },
  "cells": [
    {
      "cell_type": "markdown",
      "metadata": {
        "id": "view-in-github",
        "colab_type": "text"
      },
      "source": [
        "<a href=\"https://colab.research.google.com/github/annasajkh/The-World-Machine/blob/main/The_World_Machine.ipynb\" target=\"_parent\"><img src=\"https://colab.research.google.com/assets/colab-badge.svg\" alt=\"Open In Colab\"/></a>"
      ]
    },
    {
      "cell_type": "markdown",
      "metadata": {
        "id": "ChvQ7Y5mJcIg"
      },
      "source": [
        "thanks to gwitr for helping me with the dataset "
      ]
    },
    {
      "cell_type": "code",
      "metadata": {
        "id": "YnaEOYMqIr6S",
        "colab": {
          "base_uri": "https://localhost:8080/"
        },
        "outputId": "166bb1ae-0688-4987-b2cc-df6ea96fb046"
      },
      "source": [
        "#run this to setup everything you only have to run it once\n",
        "\n",
        "%tensorflow_version 1.x\n",
        "!pip install -q gpt-2-simple\n",
        "\n",
        "from os import path\n",
        "import gpt_2_simple as gpt2\n",
        "import tensorflow as tf\n",
        "\n",
        "if not path.exists(\"models\"):\n",
        "  gpt2.download_gpt2(model_name=\"355M\")\n",
        "\n",
        "if not path.exists(\"checkpoint\"):\n",
        "  !gdown --id 1-2RwSdhXirNTKjN0ghsKGMP3MCW_zKhr\n",
        "  !tar -xf checkpoint_run1.tar"
      ],
      "execution_count": null,
      "outputs": [
        {
          "output_type": "stream",
          "name": "stdout",
          "text": [
            "TensorFlow 1.x selected.\n",
            "  Building wheel for gpt-2-simple (setup.py) ... \u001b[?25l\u001b[?25hdone\n",
            "WARNING:tensorflow:\n",
            "The TensorFlow contrib module will not be included in TensorFlow 2.0.\n",
            "For more information, please see:\n",
            "  * https://github.com/tensorflow/community/blob/master/rfcs/20180907-contrib-sunset.md\n",
            "  * https://github.com/tensorflow/addons\n",
            "  * https://github.com/tensorflow/io (for I/O related ops)\n",
            "If you depend on functionality not listed there, please file an issue.\n",
            "\n"
          ]
        },
        {
          "output_type": "stream",
          "name": "stderr",
          "text": [
            "Fetching checkpoint: 1.05Mit [00:00, 521Mit/s]                                                      \n",
            "Fetching encoder.json: 1.05Mit [00:00, 7.31Mit/s]\n",
            "Fetching hparams.json: 1.05Mit [00:00, 581Mit/s]                                                    \n",
            "Fetching model.ckpt.data-00000-of-00001: 1.42Git [00:45, 31.5Mit/s]                                 \n",
            "Fetching model.ckpt.index: 1.05Mit [00:00, 566Mit/s]                                                \n",
            "Fetching model.ckpt.meta: 1.05Mit [00:00, 9.89Mit/s]\n",
            "Fetching vocab.bpe: 1.05Mit [00:00, 9.07Mit/s]\n"
          ]
        },
        {
          "output_type": "stream",
          "name": "stdout",
          "text": [
            "Downloading...\n",
            "From: https://drive.google.com/uc?id=1-2RwSdhXirNTKjN0ghsKGMP3MCW_zKhr\n",
            "To: /content/checkpoint_run1.tar\n",
            "100% 1.43G/1.43G [00:08<00:00, 173MB/s]\n"
          ]
        }
      ]
    },
    {
      "cell_type": "code",
      "metadata": {
        "id": "9d18MHkCIvXE",
        "colab": {
          "base_uri": "https://localhost:8080/"
        },
        "outputId": "72a6e891-8884-4085-e816-c5fd1069454e"
      },
      "source": [
        "#run to to generate text you can change the prompt or the parameters\n",
        "\n",
        "prompt = \"\"\"\n",
        "Niko wakes up in a dark room \n",
        "\"\"\".strip()\n",
        "\n",
        "tf.reset_default_graph()\n",
        "session = gpt2.start_tf_sess()\n",
        "gpt2.load_gpt2(session, run_name=\"run1\")\n",
        "\n",
        "generated = gpt2.generate(\n",
        "              session,\n",
        "              temperature=0.7,\n",
        "              top_k=40,\n",
        "              batch_size=1,\n",
        "              prefix=prompt,\n",
        "              length=300,\n",
        "              return_as_list=True)[0]\n",
        "\n",
        "print(generated)"
      ],
      "execution_count": null,
      "outputs": [
        {
          "output_type": "stream",
          "name": "stdout",
          "text": [
            "Loading checkpoint checkpoint/run1/model-3147\n",
            "INFO:tensorflow:Restoring parameters from checkpoint/run1/model-3147\n",
            "Niko wakes up in a dark room, seemingly in another world. Her mind and body are, however, completely fine. She is, however, unable to remember who she is. She only remembers the room she is in, which is dark, and that she is alone. She also remembers the words of the mysterious Author, who said that she would meet the Messiah, and that it would be her destiny to help guide him to the Tower. She then remembers her father, who told her that she would meet the Messiah in the Tower, and that she must help him find his way to the center of the Tower. She also remembers the Author's prophecy, which said that one of the people who reach the Tower will be her son, Prince Noctis.\n",
            "  \n",
            "    She remembers her father, the Author, the Tower, and the Messiah. She remembers the lightbulb and its journey. She remembers all that she would do in the future. She remembers that her task is to guide Prince Noctis to the center of the Tower, and then bring him back safely, in order to save the world.\n",
            "She remembers that she is the only one who can do this.\n",
            "She remembers the lightbulb, and the lightbulb's journey.\n",
            "She remembers that the Author has given her a second chance, and that her actions here are her own responsibility.\n",
            "She remembers that her actions here will have consequences, and that she has the choice to accept them.\n",
            "She remembers that she can\n"
          ]
        }
      ]
    }
  ]
}