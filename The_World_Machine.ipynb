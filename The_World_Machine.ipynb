{
  "nbformat": 4,
  "nbformat_minor": 0,
  "metadata": {
    "colab": {
      "name": "The World Machine.ipynb",
      "provenance": [],
      "collapsed_sections": [],
      "include_colab_link": true
    },
    "kernelspec": {
      "name": "python3",
      "display_name": "Python 3"
    },
    "language_info": {
      "name": "python"
    },
    "accelerator": "GPU"
  },
  "cells": [
    {
      "cell_type": "markdown",
      "metadata": {
        "id": "view-in-github",
        "colab_type": "text"
      },
      "source": [
        "<a href=\"https://colab.research.google.com/github/annasajkh/The-World-Machine/blob/main/The_World_Machine.ipynb\" target=\"_parent\"><img src=\"https://colab.research.google.com/assets/colab-badge.svg\" alt=\"Open In Colab\"/></a>"
      ]
    },
    {
      "cell_type": "markdown",
      "metadata": {
        "id": "ChvQ7Y5mJcIg"
      },
      "source": [
        "thanks to gwitr for helping me with the dataset "
      ]
    },
    {
      "cell_type": "code",
      "metadata": {
        "id": "YnaEOYMqIr6S",
        "colab": {
          "base_uri": "https://localhost:8080/"
        },
        "outputId": "43060a19-2844-4bab-dcb6-5299fcaa6e9b"
      },
      "source": [
        "#run this to setup everything you only have to run it once\n",
        "\n",
        "%tensorflow_version 1.x\n",
        "!pip install -q gpt-2-simple\n",
        "\n",
        "from os import path\n",
        "import gpt_2_simple as gpt2\n",
        "import tensorflow as tf\n",
        "\n",
        "if not path.exists(\"models\"):\n",
        "  gpt2.download_gpt2(model_name=\"355M\")\n",
        "\n",
        "if not path.exists(\"checkpoint\"):\n",
        "  !gdown --id 1-2RwSdhXirNTKjN0ghsKGMP3MCW_zKhr\n",
        "  !tar -xf checkpoint_run1.tar"
      ],
      "execution_count": 1,
      "outputs": [
        {
          "output_type": "stream",
          "name": "stdout",
          "text": [
            "TensorFlow 1.x selected.\n",
            "  Building wheel for gpt-2-simple (setup.py) ... \u001b[?25l\u001b[?25hdone\n",
            "WARNING:tensorflow:\n",
            "The TensorFlow contrib module will not be included in TensorFlow 2.0.\n",
            "For more information, please see:\n",
            "  * https://github.com/tensorflow/community/blob/master/rfcs/20180907-contrib-sunset.md\n",
            "  * https://github.com/tensorflow/addons\n",
            "  * https://github.com/tensorflow/io (for I/O related ops)\n",
            "If you depend on functionality not listed there, please file an issue.\n",
            "\n"
          ]
        },
        {
          "output_type": "stream",
          "name": "stderr",
          "text": [
            "Fetching checkpoint: 1.05Mit [00:00, 527Mit/s]                                                      \n",
            "Fetching encoder.json: 1.05Mit [00:00, 7.33Mit/s]\n",
            "Fetching hparams.json: 1.05Mit [00:00, 416Mit/s]                                                    \n",
            "Fetching model.ckpt.data-00000-of-00001: 1.42Git [00:38, 36.6Mit/s]                                 \n",
            "Fetching model.ckpt.index: 1.05Mit [00:00, 617Mit/s]                                                \n",
            "Fetching model.ckpt.meta: 1.05Mit [00:00, 7.23Mit/s]\n",
            "Fetching vocab.bpe: 1.05Mit [00:00, 10.6Mit/s]                                                      \n"
          ]
        },
        {
          "output_type": "stream",
          "name": "stdout",
          "text": [
            "Downloading...\n",
            "From: https://drive.google.com/uc?id=1-2RwSdhXirNTKjN0ghsKGMP3MCW_zKhr\n",
            "To: /content/checkpoint_run1.tar\n",
            "100% 1.43G/1.43G [00:09<00:00, 144MB/s]\n"
          ]
        }
      ]
    },
    {
      "cell_type": "code",
      "metadata": {
        "id": "9d18MHkCIvXE",
        "colab": {
          "base_uri": "https://localhost:8080/"
        },
        "outputId": "3f1ebd90-7690-498b-c8f7-fce7f63ace97"
      },
      "source": [
        "#run to to generate text you can change the prompt or the parameters\n",
        "import re\n",
        "\n",
        "prompt = \"\"\"\n",
        "Niko wakes up in a dark room alone\n",
        "\"\"\".strip()\n",
        "\n",
        "tf.reset_default_graph()\n",
        "session = gpt2.start_tf_sess()\n",
        "gpt2.load_gpt2(session, run_name=\"run1\")\n",
        "\n",
        "generated = gpt2.generate(\n",
        "              session,\n",
        "              temperature=0.8,\n",
        "              top_k=40,\n",
        "              batch_size=1,\n",
        "              prefix=prompt,\n",
        "              length=300,\n",
        "              return_as_list=True)[0]\n",
        "\n",
        "generated_arr = re.sub(\" +\", \" \", generated).replace(\"\\n \",\"\\n\").split(\" \")\n",
        "\n",
        "for i in range(1, int(len(generated_arr) / 15)):\n",
        "  print(\" \".join(generated_arr[(i-1) * 15:i * 15]))"
      ],
      "execution_count": 21,
      "outputs": [
        {
          "output_type": "stream",
          "name": "stdout",
          "text": [
            "Loading checkpoint checkpoint/run1/model-3147\n",
            "INFO:tensorflow:Restoring parameters from checkpoint/run1/model-3147\n",
            "Niko wakes up in a dark room alone. She is rescued by a robot on\n",
            "a mission to save the world. You will help Niko leave, but can't save the\n",
            "world for some reason. You will help Niko leave, but Niko becomes confused. A robot\n",
            "will come to help Niko, but to do so you must first change the world.\n",
            "This is because the world doesn't know what's going to happen to its old world,\n",
            "and must try to save its future. The robot you will meet later will help\n",
            "you understand what's happening in your world.\n",
            "\n",
            "\n",
            "\n",
            "This is an optional quest; you can only choose\n",
            "to do this if you don't mind it.\n",
            "\n",
            "\n",
            "ortunately, this is not a god-quest, you are\n",
            "simply helping Niko in her quest to go home.\n",
            "You can do this quest while in\n",
            "the game, because Niko forgets that you exist. She asks you if you know what\n",
            "happened to her and you say 'no'. She remembers, she remembers, she remembers. You can\n",
            "tell her this, you can tell her this. You can tell her you miss her\n",
            "and that you're sorry for what you did to her. She cries and forgets you.\n",
            "You tell her this is a way she can move on. You tell her you're\n",
            "going to talk to you when she sees you. You tell her that you're going\n"
          ]
        }
      ]
    }
  ]
}